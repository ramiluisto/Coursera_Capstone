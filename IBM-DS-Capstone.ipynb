{
    "cells": [
        {
            "cell_type": "markdown",
            "metadata": {
                "collapsed": true
            },
            "source": "# Data Science Capstone project\n\nThis notebook will contain the IBM capstone project, currently just week 1 but it will be expanded to contain both weeks 1 and 2. The week 1 part will contain the introduction, plan and data description of the project, whereas the second week will contain the actual implementation."
        },
        {
            "cell_type": "markdown",
            "metadata": {},
            "source": "# Week one - introduction and plan\n\n\nOur capstone project will consist of studying the distribution of relative education levels in Finland. In particular, we wish to see if there is any correlation on clustering of areas based on education level and the amount of coffee shops found in the area.\n"
        },
        {
            "cell_type": "markdown",
            "metadata": {},
            "source": "### A description of the problem and a discussion of the background.\n\nFinland is a country of both  [relatively high education levels](https://en.wikipedia.org/wiki/Education_in_Finland) and [relatively large coffee consumption](https://www.caffeineinformer.com/caffeine-what-the-world-drinks). In this project we wish to see if a nuanced educational profile various finnish areas has any correlation with the estimated amount of coffee shops in that area. \n\nOur motivation rises from the fact that coming from the observation that mathematicians seem to consume very large amounts of coffee, even by finnish standards, and we're interested to see if there would be a more quantifiable connection between levels of education and coffee consumption. \n\nIn particular, we wish to cluster Finnish postal code areas based on their \"educational profile\", by which we mean a vector that gives the relative amounts of adults in the given region that have passed certain levels in the finnish education system. Such data could be used, in theory, by a coffee chain conglomerate the figure out how to spread their coffee shops around the Finnish neighbourhoods."
        },
        {
            "cell_type": "markdown",
            "metadata": {},
            "source": "### A description of the data and how it will be used to solve the problem. \n\n\nWe use the [database services provided by the finnish national center of statistics](https://www.stat.fi/org/avoindata/pxweb.html). The data se we acquired is indexed with the postal code area and contains the following fields:\n1. The location of the postal code area (rough center point)\n2. The area of the postal code area.\n3. The total adult population of the postal code area\n4. The number of all people who have been educated in the area\n5. The number of people who have finished basic education\n6. The number of people who have passed high school\n7. The number of people who have passed trade school\n8. The number of bachelor diplomas\n9. The number of master's diplomas\n10. The amount of professional, scientific and techincal action. (I'm not quite sure how this is actually measured, probably in relation to companies, but took it as an extra clusterin parameter.)\n11. The student population of the area.\n    \n    \nThe fields 1. and 2. are used for locational purposes, the fields 2. and 3. for scaling the data and fields 5.-11. for clustering. \nWe study two cases where the fields 5.-11. are first divided either by the area of the postal code or the adult population of the postal code. After this the columns 5.-11. will be normalized to make them more comparable. The processed columns 5.-11. are then used to give rise to kNN-clusterings of the postal code areas with the values of k between 2 and 10. These will be visualized with Folium.\n\nFinally, we will use Foursquare to get an estimate on the amount of coffee shops in each postal code area and try to see if this amount correlates to the education profile of the postal codes.\n"
        },
        {
            "cell_type": "markdown",
            "metadata": {},
            "source": "# Week two - implementation and report"
        },
        {
            "cell_type": "markdown",
            "metadata": {},
            "source": "### The report (To be moved further down)\n\n\n#### Introduction\nIntroduction where you discuss the business problem and who would be interested in this project.\n#### Data\nData where you describe the data that will be used to solve the problem and the source of the data.\n#### Methodology\nMethodology section which represents the main component of the report where you discuss and describe any exploratory data analysis that you did, any inferential statistical testing that you performed, if any, and what machine learnings were used and why.\n#### Results\nResults section where you discuss the results.\n#### Discussion\nDiscussion section where you discuss any observations you noted and any recommendations you can make based on the results.\n#### Conclusion\nConclusion section where you conclude the report."
        },
        {
            "cell_type": "markdown",
            "metadata": {},
            "source": "### The implementation"
        },
        {
            "cell_type": "code",
            "execution_count": 3,
            "metadata": {},
            "outputs": [
                {
                    "name": "stdout",
                    "output_type": "stream",
                    "text": "Solving environment: done\n\n## Package Plan ##\n\n  environment location: /opt/conda/envs/Python36\n\n  added / updated specs: \n    - utm\n\n\nThe following packages will be downloaded:\n\n    package                    |            build\n    ---------------------------|-----------------\n    python_abi-3.6             |          1_cp36m           4 KB  conda-forge\n    ca-certificates-2020.4.5.1 |       hecc5488_0         146 KB  conda-forge\n    certifi-2020.4.5.1         |   py36h9f0ad1d_0         151 KB  conda-forge\n    utm-0.5.0                  |             py_0           8 KB  conda-forge\n    openssl-1.1.1g             |       h516909a_0         2.1 MB  conda-forge\n    ------------------------------------------------------------\n                                           Total:         2.4 MB\n\nThe following NEW packages will be INSTALLED:\n\n    python_abi:      3.6-1_cp36m       conda-forge\n    utm:             0.5.0-py_0        conda-forge\n\nThe following packages will be UPDATED:\n\n    ca-certificates: 2020.1.1-0                    --> 2020.4.5.1-hecc5488_0     conda-forge\n    certifi:         2020.4.5.1-py36_0             --> 2020.4.5.1-py36h9f0ad1d_0 conda-forge\n    openssl:         1.1.1g-h7b6447c_0             --> 1.1.1g-h516909a_0         conda-forge\n\n\nDownloading and Extracting Packages\npython_abi-3.6       | 4 KB      | ##################################### | 100% \nca-certificates-2020 | 146 KB    | ##################################### | 100% \ncertifi-2020.4.5.1   | 151 KB    | ##################################### | 100% \nutm-0.5.0            | 8 KB      | ##################################### | 100% \nopenssl-1.1.1g       | 2.1 MB    | ##################################### | 100% \nPreparing transaction: done\nVerifying transaction: done\nExecuting transaction: done\nSolving environment: done\n\n## Package Plan ##\n\n  environment location: /opt/conda/envs/Python36\n\n  added / updated specs: \n    - folium=0.5.0\n\n\nThe following packages will be downloaded:\n\n    package                    |            build\n    ---------------------------|-----------------\n    vincent-0.4.4              |             py_1          28 KB  conda-forge\n    branca-0.4.1               |             py_0          26 KB  conda-forge\n    altair-4.1.0               |             py_1         614 KB  conda-forge\n    folium-0.5.0               |             py_0          45 KB  conda-forge\n    ------------------------------------------------------------\n                                           Total:         713 KB\n\nThe following NEW packages will be INSTALLED:\n\n    altair:  4.1.0-py_1 conda-forge\n    branca:  0.4.1-py_0 conda-forge\n    folium:  0.5.0-py_0 conda-forge\n    vincent: 0.4.4-py_1 conda-forge\n\n\nDownloading and Extracting Packages\nvincent-0.4.4        | 28 KB     | ##################################### | 100% \nbranca-0.4.1         | 26 KB     | ##################################### | 100% \naltair-4.1.0         | 614 KB    | ##################################### | 100% \nfolium-0.5.0         | 45 KB     | ##################################### | 100% \nPreparing transaction: done\nVerifying transaction: done\nExecuting transaction: done\n"
                }
            ],
            "source": "import pandas as pd\nimport numpy as np\nimport math\nimport matplotlib.pyplot as plt\n\nfrom sklearn import preprocessing\nfrom sklearn.cluster import KMeans\n\n!conda install -c conda-forge utm\n# needed for coordinate changes\nimport utm\n\n\n!conda install -c conda-forge folium=0.5.0 --yes\nimport folium "
        },
        {
            "cell_type": "code",
            "execution_count": 4,
            "metadata": {},
            "outputs": [],
            "source": "# Here we import the data\ndata_df = pd.read_csv('https://luisto.fi/documents/KoulutusasteetAE.csv', sep=';')"
        },
        {
            "cell_type": "code",
            "execution_count": 5,
            "metadata": {},
            "outputs": [],
            "source": "# Here we translate the data and wrangle it a bit.\nwork_data = data_df.copy()\n\nwork_data.iloc[0,0] = \"Whole Country\"\n\nnew_column_names = [\n    'postal_codes_full', # PC borough (region)\n    'X', # X-coordinate in meters\n    'Y', # Y-coordinate in meters\n    'postal_code_area', # Land area of postal code area\n    'adult_population', # total adult population in postal code\n    'basic_ed', # number of people who have finished basic education\n    'educated_total', # number of all people who have been educated\n    'higher_ed', # number of people who have passed high school\n    'professional_ed', # number of people who have passed trade school\n    'bachelor_ed', # number of bachelor diplomas\n    'master_ed', # number of master's diplomas\n    'prof_sci_tech_action', # amount of professional, scientific and techincal action (?)\n    'student_population' # student population\n]\nwork_data.columns = new_column_names\n\nwork_data.replace(\"...\",\"0\", inplace=True) # There are a few missing values which we'll just assume to be 0\nwork_data.postal_code_area = work_data.postal_code_area/1000000 # We rescale the area slightly to prevent underflows later on\n\n\n\nwork_data = work_data.loc[work_data.X > 100000 ] # we remove a few data points (less than 1%) with bad coordinate values\n\n"
        },
        {
            "cell_type": "code",
            "execution_count": 6,
            "metadata": {},
            "outputs": [
                {
                    "name": "stdout",
                    "output_type": "stream",
                    "text": "X    float64\nY    float64\ndtype: object\nX    float64\nY    float64\ndtype: object\n"
                },
                {
                    "data": {
                        "text/html": "<div>\n<style scoped>\n    .dataframe tbody tr th:only-of-type {\n        vertical-align: middle;\n    }\n\n    .dataframe tbody tr th {\n        vertical-align: top;\n    }\n\n    .dataframe thead th {\n        text-align: right;\n    }\n</style>\n<table border=\"1\" class=\"dataframe\">\n  <thead>\n    <tr style=\"text-align: right;\">\n      <th></th>\n      <th>postal_codes_full</th>\n      <th>X</th>\n      <th>Y</th>\n      <th>postal_code_area</th>\n      <th>adult_population</th>\n      <th>basic_ed</th>\n      <th>educated_total</th>\n      <th>higher_ed</th>\n      <th>professional_ed</th>\n      <th>bachelor_ed</th>\n      <th>master_ed</th>\n      <th>prof_sci_tech_action</th>\n      <th>student_population</th>\n    </tr>\n  </thead>\n  <tbody>\n    <tr>\n      <th>0</th>\n      <td>Whole Country</td>\n      <td>429300</td>\n      <td>7084490</td>\n      <td>390813.692400</td>\n      <td>4459828</td>\n      <td>1060335</td>\n      <td>3399493</td>\n      <td>306488</td>\n      <td>2051978</td>\n      <td>542023</td>\n      <td>499004</td>\n      <td>136999</td>\n      <td>400807</td>\n    </tr>\n    <tr>\n      <th>1</th>\n      <td>00100  Helsinki Keskusta - Etu-Toolo (Helsinki)</td>\n      <td>384979</td>\n      <td>6672361</td>\n      <td>2.353278</td>\n      <td>16273</td>\n      <td>1659</td>\n      <td>14614</td>\n      <td>2616</td>\n      <td>3027</td>\n      <td>2983</td>\n      <td>5988</td>\n      <td>7659</td>\n      <td>1212</td>\n    </tr>\n    <tr>\n      <th>2</th>\n      <td>00120  Punavuori (Helsinki)</td>\n      <td>385531</td>\n      <td>6671434</td>\n      <td>0.414010</td>\n      <td>6202</td>\n      <td>679</td>\n      <td>5523</td>\n      <td>1062</td>\n      <td>1216</td>\n      <td>1040</td>\n      <td>2205</td>\n      <td>1430</td>\n      <td>402</td>\n    </tr>\n    <tr>\n      <th>3</th>\n      <td>00130  Kaartinkaupunki (Helsinki)</td>\n      <td>386244</td>\n      <td>6671474</td>\n      <td>0.428960</td>\n      <td>1319</td>\n      <td>131</td>\n      <td>1188</td>\n      <td>245</td>\n      <td>234</td>\n      <td>190</td>\n      <td>519</td>\n      <td>2466</td>\n      <td>111</td>\n    </tr>\n    <tr>\n      <th>4</th>\n      <td>00140  Kaivopuisto - Ullanlinna (Helsinki)</td>\n      <td>386394</td>\n      <td>6670766</td>\n      <td>0.931841</td>\n      <td>6800</td>\n      <td>713</td>\n      <td>6087</td>\n      <td>1144</td>\n      <td>1296</td>\n      <td>1167</td>\n      <td>2480</td>\n      <td>312</td>\n      <td>479</td>\n    </tr>\n  </tbody>\n</table>\n</div>",
                        "text/plain": "                                 postal_codes_full       X        Y  \\\n0                                    Whole Country  429300  7084490   \n1  00100  Helsinki Keskusta - Etu-Toolo (Helsinki)  384979  6672361   \n2                      00120  Punavuori (Helsinki)  385531  6671434   \n3                00130  Kaartinkaupunki (Helsinki)  386244  6671474   \n4       00140  Kaivopuisto - Ullanlinna (Helsinki)  386394  6670766   \n\n   postal_code_area  adult_population basic_ed educated_total higher_ed  \\\n0     390813.692400           4459828  1060335        3399493    306488   \n1          2.353278             16273     1659          14614      2616   \n2          0.414010              6202      679           5523      1062   \n3          0.428960              1319      131           1188       245   \n4          0.931841              6800      713           6087      1144   \n\n  professional_ed bachelor_ed master_ed prof_sci_tech_action  \\\n0         2051978      542023    499004               136999   \n1            3027        2983      5988                 7659   \n2            1216        1040      2205                 1430   \n3             234         190       519                 2466   \n4            1296        1167      2480                  312   \n\n  student_population  \n0             400807  \n1               1212  \n2                402  \n3                111  \n4                479  "
                    },
                    "execution_count": 6,
                    "metadata": {},
                    "output_type": "execute_result"
                }
            ],
            "source": "location_data = work_data[['X', 'Y']].astype(float)\nprint(location_data.dtypes)\n\n# A function that changes the X- and Y- coordinate pare, given in UTM, to latitude and longitude.\ndef utm_coord_to_latlon(row):\n    x_coord = row.X\n    y_coord = row.Y\n    latitude, longitude = utm.to_latlon(x_coord, y_coord, 35, 'V') # 35 and V are parameters in the UTM system. They specify an area near Finland.\n#    print(latitude,longitude)\n    row.X = latitude\n    row.Y = longitude\n    return row\n\n    \nlocation_data = location_data.apply(utm_coord_to_latlon, axis = 1)\n\nprint(location_data.dtypes)\n#print(x_coord, y_coord)\nlocation_data.head()\n\n\n#print(utm.to_latlon(x_coord, y_coord, 35, 'V'))\n\n#location_data = work_data[['postal_code', 'X', 'Y']]\n#location_data.columns = work_data['postal_code', 'latitude', 'longitude']\n\n# Helsinki\n# 60.1699\u00b0 N, \n# 24.9384\u00b0 E\n\nwork_data.head()"
        },
        {
            "cell_type": "code",
            "execution_count": 7,
            "metadata": {},
            "outputs": [
                {
                    "data": {
                        "text/html": "<div>\n<style scoped>\n    .dataframe tbody tr th:only-of-type {\n        vertical-align: middle;\n    }\n\n    .dataframe tbody tr th {\n        vertical-align: top;\n    }\n\n    .dataframe thead th {\n        text-align: right;\n    }\n</style>\n<table border=\"1\" class=\"dataframe\">\n  <thead>\n    <tr style=\"text-align: right;\">\n      <th></th>\n      <th>code</th>\n      <th>region</th>\n      <th>borough</th>\n    </tr>\n  </thead>\n  <tbody>\n    <tr>\n      <th>0</th>\n      <td>000000</td>\n      <td>Finland</td>\n      <td>Finland</td>\n    </tr>\n    <tr>\n      <th>1</th>\n      <td>00100</td>\n      <td>Helsinki Keskusta - Etu-Toolo</td>\n      <td>Helsinki</td>\n    </tr>\n    <tr>\n      <th>2</th>\n      <td>00120</td>\n      <td>Punavuori</td>\n      <td>Helsinki</td>\n    </tr>\n    <tr>\n      <th>3</th>\n      <td>00130</td>\n      <td>Kaartinkaupunki</td>\n      <td>Helsinki</td>\n    </tr>\n    <tr>\n      <th>4</th>\n      <td>00140</td>\n      <td>Kaivopuisto - Ullanlinna</td>\n      <td>Helsinki</td>\n    </tr>\n  </tbody>\n</table>\n</div>",
                        "text/plain": "     code                           region   borough\n0  000000                          Finland   Finland\n1   00100   Helsinki Keskusta - Etu-Toolo   Helsinki\n2   00120                       Punavuori   Helsinki\n3   00130                 Kaartinkaupunki   Helsinki\n4   00140        Kaivopuisto - Ullanlinna   Helsinki"
                    },
                    "execution_count": 7,
                    "metadata": {},
                    "output_type": "execute_result"
                }
            ],
            "source": "def split_postal_codes(row):\n    \n    string = row.postal_codes_full\n    \n    if string == 'Whole Country':\n        code = '000000'\n        region = 'Finland'\n        borough = 'Finland'\n    \n    else:        \n        code, names = string.split(' ',1)\n        region, borough = names.split('(', 1)\n        borough = borough[:len(borough)-1] # remove last parenthesis\n    \n    row['code'] = code\n    row['region'] = region\n    row['borough'] = borough\n    return row\n\nnames_df = work_data.apply(split_postal_codes, axis = 1)[['code', 'region', 'borough']]\n\nnames_df.head()"
        },
        {
            "cell_type": "code",
            "execution_count": 8,
            "metadata": {},
            "outputs": [
                {
                    "data": {
                        "text/html": "<div>\n<style scoped>\n    .dataframe tbody tr th:only-of-type {\n        vertical-align: middle;\n    }\n\n    .dataframe tbody tr th {\n        vertical-align: top;\n    }\n\n    .dataframe thead th {\n        text-align: right;\n    }\n</style>\n<table border=\"1\" class=\"dataframe\">\n  <thead>\n    <tr style=\"text-align: right;\">\n      <th></th>\n      <th>adult_population</th>\n      <th>basic_ed</th>\n      <th>educated_total</th>\n      <th>higher_ed</th>\n      <th>professional_ed</th>\n      <th>bachelor_ed</th>\n      <th>master_ed</th>\n      <th>prof_sci_tech_action</th>\n      <th>student_population</th>\n    </tr>\n  </thead>\n  <tbody>\n    <tr>\n      <th>0</th>\n      <td>-0.259503</td>\n      <td>-0.281785</td>\n      <td>-0.250087</td>\n      <td>-0.193639</td>\n      <td>-0.309552</td>\n      <td>-0.224519</td>\n      <td>-0.191046</td>\n      <td>-0.100839</td>\n      <td>-0.266827</td>\n    </tr>\n    <tr>\n      <th>1</th>\n      <td>7.075836</td>\n      <td>3.845625</td>\n      <td>7.659110</td>\n      <td>7.628005</td>\n      <td>4.249038</td>\n      <td>7.476642</td>\n      <td>10.683497</td>\n      <td>19.272661</td>\n      <td>5.593823</td>\n    </tr>\n    <tr>\n      <th>2</th>\n      <td>15.645474</td>\n      <td>9.341402</td>\n      <td>16.752938</td>\n      <td>17.862335</td>\n      <td>10.123549</td>\n      <td>15.045314</td>\n      <td>22.576387</td>\n      <td>20.459826</td>\n      <td>10.792745</td>\n    </tr>\n    <tr>\n      <th>3</th>\n      <td>2.995537</td>\n      <td>1.497142</td>\n      <td>3.271016</td>\n      <td>3.822351</td>\n      <td>1.612949</td>\n      <td>2.460989</td>\n      <td>4.976834</td>\n      <td>34.121195</td>\n      <td>2.671929</td>\n    </tr>\n    <tr>\n      <th>4</th>\n      <td>7.482093</td>\n      <td>4.199309</td>\n      <td>8.070003</td>\n      <td>8.445028</td>\n      <td>4.620917</td>\n      <td>7.383988</td>\n      <td>11.183181</td>\n      <td>1.890356</td>\n      <td>5.582534</td>\n    </tr>\n  </tbody>\n</table>\n</div>",
                        "text/plain": "   adult_population  basic_ed  educated_total  higher_ed  professional_ed  \\\n0         -0.259503 -0.281785       -0.250087  -0.193639        -0.309552   \n1          7.075836  3.845625        7.659110   7.628005         4.249038   \n2         15.645474  9.341402       16.752938  17.862335        10.123549   \n3          2.995537  1.497142        3.271016   3.822351         1.612949   \n4          7.482093  4.199309        8.070003   8.445028         4.620917   \n\n   bachelor_ed  master_ed  prof_sci_tech_action  student_population  \n0    -0.224519  -0.191046             -0.100839           -0.266827  \n1     7.476642  10.683497             19.272661            5.593823  \n2    15.045314  22.576387             20.459826           10.792745  \n3     2.460989   4.976834             34.121195            2.671929  \n4     7.383988  11.183181              1.890356            5.582534  "
                    },
                    "execution_count": 8,
                    "metadata": {},
                    "output_type": "execute_result"
                }
            ],
            "source": "# Data normalization\n\nclusterable_data = work_data.drop(['postal_codes_full', 'X', 'Y'], axis = 1)\nclusterable_data = clusterable_data.astype(float)\n\npopulation_data = clusterable_data.iloc[:,1:].div(clusterable_data.postal_code_area, axis=0)\n\npopulation_data.head()\n\n# Mean Normalization\nmean_normalized_cluster=(population_data-population_data.mean())/population_data.std()\n\n# Min-Max Normalization\nminmax_normalized_cluster=(population_data-population_data.min())/(population_data.max()-population_data.min())\n\nmean_normalized_cluster.head()\n\n\n\n\n\n"
        },
        {
            "cell_type": "code",
            "execution_count": 9,
            "metadata": {},
            "outputs": [],
            "source": "# Clustering and visualization of the clusters.\n\n\n# Number of clusters\nkclusters = 5\n\ngrouped_clustering = mean_normalized_cluster\n\n# run k-means clustering\nkmeans = KMeans(n_clusters=kclusters, random_state=0).fit(grouped_clustering)"
        },
        {
            "cell_type": "markdown",
            "metadata": {},
            "source": "The following cell will contain the FourSquare CLIENT_ID and CLIENT_SECRET strings. It is a hidden cell so it should not appear in the GitHub version."
        },
        {
            "cell_type": "code",
            "execution_count": 10,
            "metadata": {},
            "outputs": [],
            "source": "# The code was removed by Watson Studio for sharing."
        },
        {
            "cell_type": "code",
            "execution_count": 11,
            "metadata": {},
            "outputs": [],
            "source": "# Further FourSquare parameters\nVERSION = '20180604'\nLIMIT = 100"
        },
        {
            "cell_type": "code",
            "execution_count": null,
            "metadata": {},
            "outputs": [],
            "source": ""
        },
        {
            "cell_type": "code",
            "execution_count": null,
            "metadata": {},
            "outputs": [],
            "source": ""
        }
    ],
    "metadata": {
        "kernelspec": {
            "display_name": "Python 3.6",
            "language": "python",
            "name": "python3"
        },
        "language_info": {
            "codemirror_mode": {
                "name": "ipython",
                "version": 3
            },
            "file_extension": ".py",
            "mimetype": "text/x-python",
            "name": "python",
            "nbconvert_exporter": "python",
            "pygments_lexer": "ipython3",
            "version": "3.6.9"
        }
    },
    "nbformat": 4,
    "nbformat_minor": 1
}