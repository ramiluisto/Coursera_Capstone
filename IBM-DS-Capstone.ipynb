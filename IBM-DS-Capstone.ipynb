{
    "cells": [
        {
            "cell_type": "markdown",
            "metadata": {
                "collapsed": true
            },
            "source": "# Data Science Capstone project\n\nThis notebook will contain the IBM capstone project, currently just week 1 but it will be expanded to contain both weeks 1 and 2. The week 1 part will contain the introduction, plan and data description of the project, whereas the second week will contain the actual implementation."
        },
        {
            "cell_type": "markdown",
            "metadata": {},
            "source": "# Week one - introduction and plan\n\n\nOur capstone project will consist of studying the distribution of relative education levels in Finland. In particular, we wish to see if there is any correlation on clustering of areas based on education level and the amount of coffee shops found in the area. A possible user for our analysis would be a coffee shop conglomerate who wishes to understand the coffee consumption levels in Finland and is in particular interested in targeting people based on their education levels.\n"
        },
        {
            "cell_type": "markdown",
            "metadata": {},
            "source": "### A description of the problem and a discussion of the background.\n\nFinland is a country of both  [relatively high education levels](https://en.wikipedia.org/wiki/Education_in_Finland) and [relatively large coffee consumption](https://www.caffeineinformer.com/caffeine-what-the-world-drinks). In this project we wish to see if a nuanced educational profile various finnish areas has any correlation with the estimated amount of coffee shops in that area. \n\nOur motivation rises from the fact that coming from the observation that mathematicians seem to consume very large amounts of coffee, even by finnish standards, and we're interested to see if there would be a more quantifiable connection between levels of education and coffee consumption. \n\nIn particular, we wish to cluster Finnish postal code areas based on their \"educational profile\", by which we mean a vector that gives the relative amounts of adults in the given region that have passed certain levels in the finnish education system. Such data could be used, in theory, by a coffee chain conglomerate the figure out how to spread their coffee shops around the Finnish neighbourhoods."
        },
        {
            "cell_type": "markdown",
            "metadata": {},
            "source": "### A description of the data and how it will be used to solve the problem. \n\n\nWe use the [database services provided by the finnish national center of statistics](https://www.stat.fi/org/avoindata/pxweb.html). The data se we acquired is indexed with the postal code area and contains the following fields:\n1. The location of the postal code area (rough center point)\n2. The area of the postal code area.\n3. The total adult population of the postal code area\n4. The number of all people who have been educated in the area\n5. The number of people who have finished basic education\n6. The number of people who have passed high school\n7. The number of people who have passed trade school\n8. The number of bachelor diplomas\n9. The number of master's diplomas\n10. The amount of professional, scientific and techincal action. (I'm not quite sure how this is actually measured, probably in relation to companies, but took it as an extra clusterin parameter.)\n11. The student population of the area.\n(See below for a snippet of the data.)    \n    \nThe fields 1. and 2. are used for locational purposes, the fields 2. and 3. for scaling the data and fields 5.-11. for clustering. \nWe study two cases where the fields 5.-11. are first divided either by the area of the postal code or the adult population of the postal code. After this the columns 5.-11. will be normalized to make them more comparable. The processed columns 5.-11. are then used to give rise to kNN-clusterings of the postal code areas with the values of k between 2 and 10. These will be visualized with Folium.\n\nFinally, we will use Foursquare to get an estimate on the amount of coffee shops in each postal code area and try to see if this amount correlates to the education profile of the postal codes.\n"
        },
        {
            "cell_type": "code",
            "execution_count": 15,
            "metadata": {},
            "outputs": [
                {
                    "data": {
                        "text/html": "<div>\n<style scoped>\n    .dataframe tbody tr th:only-of-type {\n        vertical-align: middle;\n    }\n\n    .dataframe tbody tr th {\n        vertical-align: top;\n    }\n\n    .dataframe thead th {\n        text-align: right;\n    }\n</style>\n<table border=\"1\" class=\"dataframe\">\n  <thead>\n    <tr style=\"text-align: right;\">\n      <th></th>\n      <th>postal_codes_full</th>\n      <th>X</th>\n      <th>Y</th>\n      <th>postal_code_area</th>\n      <th>adult_population</th>\n      <th>basic_ed</th>\n      <th>educated_total</th>\n      <th>higher_ed</th>\n      <th>professional_ed</th>\n      <th>bachelor_ed</th>\n      <th>master_ed</th>\n      <th>prof_sci_tech_action</th>\n      <th>student_population</th>\n    </tr>\n  </thead>\n  <tbody>\n    <tr>\n      <th>0</th>\n      <td>Whole Country</td>\n      <td>429300</td>\n      <td>7084490</td>\n      <td>390813.692400</td>\n      <td>4459828</td>\n      <td>1060335</td>\n      <td>3399493</td>\n      <td>306488</td>\n      <td>2051978</td>\n      <td>542023</td>\n      <td>499004</td>\n      <td>136999</td>\n      <td>400807</td>\n    </tr>\n    <tr>\n      <th>1</th>\n      <td>00100  Helsinki Keskusta - Etu-Toolo (Helsinki)</td>\n      <td>384979</td>\n      <td>6672361</td>\n      <td>2.353278</td>\n      <td>16273</td>\n      <td>1659</td>\n      <td>14614</td>\n      <td>2616</td>\n      <td>3027</td>\n      <td>2983</td>\n      <td>5988</td>\n      <td>7659</td>\n      <td>1212</td>\n    </tr>\n    <tr>\n      <th>2</th>\n      <td>00120  Punavuori (Helsinki)</td>\n      <td>385531</td>\n      <td>6671434</td>\n      <td>0.414010</td>\n      <td>6202</td>\n      <td>679</td>\n      <td>5523</td>\n      <td>1062</td>\n      <td>1216</td>\n      <td>1040</td>\n      <td>2205</td>\n      <td>1430</td>\n      <td>402</td>\n    </tr>\n    <tr>\n      <th>3</th>\n      <td>00130  Kaartinkaupunki (Helsinki)</td>\n      <td>386244</td>\n      <td>6671474</td>\n      <td>0.428960</td>\n      <td>1319</td>\n      <td>131</td>\n      <td>1188</td>\n      <td>245</td>\n      <td>234</td>\n      <td>190</td>\n      <td>519</td>\n      <td>2466</td>\n      <td>111</td>\n    </tr>\n    <tr>\n      <th>4</th>\n      <td>00140  Kaivopuisto - Ullanlinna (Helsinki)</td>\n      <td>386394</td>\n      <td>6670766</td>\n      <td>0.931841</td>\n      <td>6800</td>\n      <td>713</td>\n      <td>6087</td>\n      <td>1144</td>\n      <td>1296</td>\n      <td>1167</td>\n      <td>2480</td>\n      <td>312</td>\n      <td>479</td>\n    </tr>\n  </tbody>\n</table>\n</div>",
                        "text/plain": "                                 postal_codes_full       X        Y  \\\n0                                    Whole Country  429300  7084490   \n1  00100  Helsinki Keskusta - Etu-Toolo (Helsinki)  384979  6672361   \n2                      00120  Punavuori (Helsinki)  385531  6671434   \n3                00130  Kaartinkaupunki (Helsinki)  386244  6671474   \n4       00140  Kaivopuisto - Ullanlinna (Helsinki)  386394  6670766   \n\n   postal_code_area  adult_population basic_ed educated_total higher_ed  \\\n0     390813.692400           4459828  1060335        3399493    306488   \n1          2.353278             16273     1659          14614      2616   \n2          0.414010              6202      679           5523      1062   \n3          0.428960              1319      131           1188       245   \n4          0.931841              6800      713           6087      1144   \n\n  professional_ed bachelor_ed master_ed prof_sci_tech_action  \\\n0         2051978      542023    499004               136999   \n1            3027        2983      5988                 7659   \n2            1216        1040      2205                 1430   \n3             234         190       519                 2466   \n4            1296        1167      2480                  312   \n\n  student_population  \n0             400807  \n1               1212  \n2                402  \n3                111  \n4                479  "
                    },
                    "execution_count": 15,
                    "metadata": {},
                    "output_type": "execute_result"
                }
            ],
            "source": "# Here is a sample of the type of data we are working with. The x- and y- coordinates are given in the UTM system and will be converted to latitude-longitude later on.\n\nwork_data.head()"
        }
    ],
    "metadata": {
        "kernelspec": {
            "display_name": "Python 3.6",
            "language": "python",
            "name": "python3"
        },
        "language_info": {
            "codemirror_mode": {
                "name": "ipython",
                "version": 3
            },
            "file_extension": ".py",
            "mimetype": "text/x-python",
            "name": "python",
            "nbconvert_exporter": "python",
            "pygments_lexer": "ipython3",
            "version": "3.6.9"
        }
    },
    "nbformat": 4,
    "nbformat_minor": 1
}