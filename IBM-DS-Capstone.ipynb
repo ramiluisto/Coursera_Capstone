{
    "cells": [
        {
            "cell_type": "markdown",
            "metadata": {
                "collapsed": true
            },
            "source": "# Data Science Capstone project\n\nThis notebook will contain the IBM capstone project, currently just week 1 but it will be expanded to contain both weeks 1 and 2. The week 1 part will contain the introduction, plan and data description of the project, whereas the second week will contain the actual implementation."
        },
        {
            "cell_type": "markdown",
            "metadata": {},
            "source": "# Week one - introduction and plan\n\n\nOur capstone project will consist of studying the distribution of relative education levels in Finland. In particular, we wish to see if there is any correlation on clustering of areas based on education level and the amount of coffee shops found in the area.\n"
        },
        {
            "cell_type": "markdown",
            "metadata": {},
            "source": "### A description of the problem and a discussion of the background.\n\nFinland is a country of both  [relatively high education levels](https://en.wikipedia.org/wiki/Education_in_Finland) and [relatively large coffee consumption](https://www.caffeineinformer.com/caffeine-what-the-world-drinks). In this project we wish to see if a nuanced educational profile various finnish areas has any correlation with the estimated amount of coffee shops in that area. \n\nOur motivation rises from the fact that coming from the observation that mathematicians seem to consume very large amounts of coffee, even by finnish standards, and we're interested to see if there would be a more quantifiable connection between levels of education and coffee consumption. \n\nIn particular, we wish to cluster Finnish postal code areas based on their \"educational profile\", by which we mean a vector that gives the relative amounts of adults in the given region that have passed certain levels in the finnish education system. Such data could be used, in theory, by a coffee chain conglomerate the figure out how to spread their coffee shops around the Finnish neighbourhoods."
        },
        {
            "cell_type": "markdown",
            "metadata": {},
            "source": "### A description of the data and how it will be used to solve the problem. \n\n\nWe use the [database services provided by the finnish national center of statistics](https://www.stat.fi/org/avoindata/pxweb.html). The data se we acquired is indexed with the postal code area and contains the following fields:\n1. The location of the postal code area (rough center point)\n2. The area of the postal code area.\n3. The total adult population of the postal code area\n4. The number of all people who have been educated in the area\n5. The number of people who have finished basic education\n6. The number of people who have passed high school\n7. The number of people who have passed trade school\n8. The number of bachelor diplomas\n9. The number of master's diplomas\n10. The amount of professional, scientific and techincal action. (I'm not quite sure how this is actually measured, probably in relation to companies, but took it as an extra clusterin parameter.)\n11. The student population of the area.\n    \n    \nThe fields 1. and 2. are used for locational purposes, the fields 2. and 3. for scaling the data and fields 5.-11. for clustering. \nWe study two cases where the fields 5.-11. are first divided either by the area of the postal code or the adult population of the postal code. After this the columns 5.-11. will be normalized to make them more comparable. The processed columns 5.-11. are then used to give rise to kNN-clusterings of the postal code areas with the values of k between 2 and 10. These will be visualized with Folium.\n\nFinally, we will use Foursquare to get an estimate on the amount of coffee shops in each postal code area and try to see if this amount correlates to the education profile of the postal codes.\n"
        },
        {
            "cell_type": "code",
            "execution_count": null,
            "metadata": {},
            "outputs": [],
            "source": ""
        },
        {
            "cell_type": "code",
            "execution_count": null,
            "metadata": {},
            "outputs": [],
            "source": ""
        }
    ],
    "metadata": {
        "kernelspec": {
            "display_name": "Python 3.6",
            "language": "python",
            "name": "python3"
        },
        "language_info": {
            "codemirror_mode": {
                "name": "ipython",
                "version": 3
            },
            "file_extension": ".py",
            "mimetype": "text/x-python",
            "name": "python",
            "nbconvert_exporter": "python",
            "pygments_lexer": "ipython3",
            "version": "3.6.9"
        }
    },
    "nbformat": 4,
    "nbformat_minor": 1
}